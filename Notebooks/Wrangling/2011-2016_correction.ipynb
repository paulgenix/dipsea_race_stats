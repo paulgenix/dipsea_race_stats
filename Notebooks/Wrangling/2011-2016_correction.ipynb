{
 "cells": [
  {
   "cell_type": "code",
   "execution_count": null,
   "metadata": {},
   "outputs": [],
   "source": [
    "#Noticed some column inconsistencies for years 2011 to 2016: age and sex columns were inverted"
   ]
  },
  {
   "cell_type": "code",
   "execution_count": 6,
   "metadata": {},
   "outputs": [],
   "source": [
    "import pandas as pd\n",
    "\n",
    "# Read the CSV\n",
    "df = pd.read_csv(\"/Users/paul/Desktop/Dipsea/PROCESSED/2000-2016/processed_results_2016.csv\")\n",
    "\n",
    "# Swap the column names\n",
    "df.rename(columns={'age': 'temp', 'sex': 'age'}, inplace=True)\n",
    "df.rename(columns={'temp': 'sex'}, inplace=True)\n",
    "\n",
    "# Save it back\n",
    "df.to_csv(\"/Users/paul/Desktop/Dipsea/PROCESSED/2000-2016/processed_results_2016.csv\", index=False)"
   ]
  }
 ],
 "metadata": {
  "kernelspec": {
   "display_name": "base",
   "language": "python",
   "name": "python3"
  },
  "language_info": {
   "codemirror_mode": {
    "name": "ipython",
    "version": 3
   },
   "file_extension": ".py",
   "mimetype": "text/x-python",
   "name": "python",
   "nbconvert_exporter": "python",
   "pygments_lexer": "ipython3",
   "version": "3.12.7"
  }
 },
 "nbformat": 4,
 "nbformat_minor": 2
}
