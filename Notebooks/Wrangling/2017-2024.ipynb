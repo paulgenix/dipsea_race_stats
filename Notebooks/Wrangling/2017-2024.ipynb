{
 "cells": [
  {
   "cell_type": "code",
   "execution_count": null,
   "metadata": {},
   "outputs": [],
   "source": [
    "import pandas as pd\n",
    "\n",
    "#The CSV files for the years 2017-2024 are tab delimited\n",
    "# Read with tab delimiter\n",
    "df = pd.read_csv('/Users/paul/Desktop/Dipsea/RAW/2017-2024/results_2017.csv', delimiter='\\t')\n",
    "\n",
    "# Save to a new clean CSV\n",
    "df.to_csv('final_results_clean.csv', index=False)"
   ]
  },
  {
   "cell_type": "code",
   "execution_count": null,
   "metadata": {},
   "outputs": [
    {
     "name": "stdout",
     "output_type": "stream",
     "text": [
      "Processed and saved: /Users/paul/Desktop/Dipsea/PROCESSED/2017-2024/processed_results_2017.csv\n",
      "Processed and saved: /Users/paul/Desktop/Dipsea/PROCESSED/2017-2024/processed_results_2021.csv\n",
      "Processed and saved: /Users/paul/Desktop/Dipsea/PROCESSED/2017-2024/processed_results_2023.csv\n",
      "Processed and saved: /Users/paul/Desktop/Dipsea/PROCESSED/2017-2024/processed_results_2022.csv\n",
      "Processed and saved: /Users/paul/Desktop/Dipsea/PROCESSED/2017-2024/processed_results_2019.csv\n",
      "Processed and saved: /Users/paul/Desktop/Dipsea/PROCESSED/2017-2024/processed_results_2018.csv\n",
      "Processed and saved: /Users/paul/Desktop/Dipsea/PROCESSED/2017-2024/processed_results_2024.csv\n"
     ]
    }
   ],
   "source": [
    "import pandas as pd\n",
    "import os\n",
    "\n",
    "input_folder = '/Users/paul/Desktop/Dipsea/RAW/2017-2024'\n",
    "output_folder = '/Users/paul/Desktop/Dipsea/PROCESSED/2017-2024'\n",
    "\n",
    "for filename in os.listdir(input_folder):\n",
    "    if filename.endswith('.csv'): \n",
    "        input_file_path = os.path.join(input_folder, filename)\n",
    "        output_file_path = os.path.join(output_folder, f'processed_{filename}')\n",
    "        \n",
    "        # Read the CSV file with tab delimiter\n",
    "        df = pd.read_csv(input_file_path, delimiter='\\t')\n",
    "        \n",
    "        df.to_csv(output_file_path, index=False)"
   ]
  }
 ],
 "metadata": {
  "kernelspec": {
   "display_name": "base",
   "language": "python",
   "name": "python3"
  },
  "language_info": {
   "codemirror_mode": {
    "name": "ipython",
    "version": 3
   },
   "file_extension": ".py",
   "mimetype": "text/x-python",
   "name": "python",
   "nbconvert_exporter": "python",
   "pygments_lexer": "ipython3",
   "version": "3.12.7"
  }
 },
 "nbformat": 4,
 "nbformat_minor": 2
}
