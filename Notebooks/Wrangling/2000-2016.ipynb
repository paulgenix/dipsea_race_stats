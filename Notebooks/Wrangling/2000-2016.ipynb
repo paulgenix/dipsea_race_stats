{
 "cells": [
  {
   "cell_type": "code",
   "execution_count": null,
   "metadata": {},
   "outputs": [],
   "source": [
    "import pandas as pd"
   ]
  },
  {
   "cell_type": "code",
   "execution_count": 3,
   "metadata": {},
   "outputs": [],
   "source": [
    "df2001 = pd.read_csv('/Users/paul/Desktop/Dipsea/RAW/2000-2016/results_2001.csv')"
   ]
  },
  {
   "cell_type": "code",
   "execution_count": 12,
   "metadata": {},
   "outputs": [
    {
     "data": {
      "text/html": [
       "<div>\n",
       "<style scoped>\n",
       "    .dataframe tbody tr th:only-of-type {\n",
       "        vertical-align: middle;\n",
       "    }\n",
       "\n",
       "    .dataframe tbody tr th {\n",
       "        vertical-align: top;\n",
       "    }\n",
       "\n",
       "    .dataframe thead th {\n",
       "        text-align: right;\n",
       "    }\n",
       "</style>\n",
       "<table border=\"1\" class=\"dataframe\">\n",
       "  <thead>\n",
       "    <tr style=\"text-align: right;\">\n",
       "      <th></th>\n",
       "      <th>place_overall</th>\n",
       "      <th>time</th>\n",
       "      <th>name</th>\n",
       "      <th>age</th>\n",
       "      <th>sex</th>\n",
       "      <th>actual_time</th>\n",
       "    </tr>\n",
       "  </thead>\n",
       "  <tbody>\n",
       "    <tr>\n",
       "      <th>0</th>\n",
       "      <td>1</td>\n",
       "      <td>0:46:25</td>\n",
       "      <td>Shirley Matson</td>\n",
       "      <td>60</td>\n",
       "      <td>F</td>\n",
       "      <td>1:08:25</td>\n",
       "    </tr>\n",
       "    <tr>\n",
       "      <th>1</th>\n",
       "      <td>2</td>\n",
       "      <td>0:47:53</td>\n",
       "      <td>Russ Kiernan</td>\n",
       "      <td>63</td>\n",
       "      <td>M</td>\n",
       "      <td>1:01:53</td>\n",
       "    </tr>\n",
       "    <tr>\n",
       "      <th>2</th>\n",
       "      <td>3</td>\n",
       "      <td>0:48:27</td>\n",
       "      <td>Christopher Phipps</td>\n",
       "      <td>31</td>\n",
       "      <td>M</td>\n",
       "      <td>0:49:27</td>\n",
       "    </tr>\n",
       "    <tr>\n",
       "      <th>3</th>\n",
       "      <td>4</td>\n",
       "      <td>0:48:44</td>\n",
       "      <td>Bruce Mace</td>\n",
       "      <td>42</td>\n",
       "      <td>M</td>\n",
       "      <td>0:51:44</td>\n",
       "    </tr>\n",
       "    <tr>\n",
       "      <th>4</th>\n",
       "      <td>5</td>\n",
       "      <td>0:48:51</td>\n",
       "      <td>Steve Stephens</td>\n",
       "      <td>57</td>\n",
       "      <td>M</td>\n",
       "      <td>0:58:51</td>\n",
       "    </tr>\n",
       "  </tbody>\n",
       "</table>\n",
       "</div>"
      ],
      "text/plain": [
       "   place_overall     time                name age sex actual_time\n",
       "0              1  0:46:25      Shirley Matson  60   F     1:08:25\n",
       "1              2  0:47:53        Russ Kiernan  63   M     1:01:53\n",
       "2              3  0:48:27  Christopher Phipps  31   M     0:49:27\n",
       "3              4  0:48:44          Bruce Mace  42   M     0:51:44\n",
       "4              5  0:48:51      Steve Stephens  57   M     0:58:51"
      ]
     },
     "execution_count": 14,
     "metadata": {},
     "output_type": "execute_result"
    }
   ],
   "source": [
    "df2001.head()"
   ]
  },
  {
   "cell_type": "code",
   "execution_count": 5,
   "metadata": {},
   "outputs": [],
   "source": [
    "df2001.drop(columns=['HomeTown', 'Place_Adj', 'Race/Place','Bib'], inplace=True)"
   ]
  },
  {
   "cell_type": "code",
   "execution_count": null,
   "metadata": {},
   "outputs": [],
   "source": [
    "\n",
    "df2001['actual_time'] = df2001['Time/Place'].str.extract(r'(^\\d+:\\d{2}:\\d{2})')\n"
   ]
  },
  {
   "cell_type": "code",
   "execution_count": 11,
   "metadata": {},
   "outputs": [],
   "source": [
    "df2001.drop(columns=['Time/Place'], inplace=True)"
   ]
  },
  {
   "cell_type": "code",
   "execution_count": 13,
   "metadata": {},
   "outputs": [],
   "source": [
    "df2001.columns=['place_overall', 'time', 'name', 'age', 'sex', 'actual_time']"
   ]
  },
  {
   "cell_type": "code",
   "execution_count": 15,
   "metadata": {},
   "outputs": [],
   "source": [
    "df2001.to_csv('/Users/paul/Desktop/Dipsea/PROCESSED/2000-2016/processed_results_2001.csv', index=False)\n"
   ]
  },
  {
   "cell_type": "code",
   "execution_count": null,
   "metadata": {},
   "outputs": [
    {
     "data": {
      "text/html": [
       "<div>\n",
       "<style scoped>\n",
       "    .dataframe tbody tr th:only-of-type {\n",
       "        vertical-align: middle;\n",
       "    }\n",
       "\n",
       "    .dataframe tbody tr th {\n",
       "        vertical-align: top;\n",
       "    }\n",
       "\n",
       "    .dataframe thead th {\n",
       "        text-align: right;\n",
       "    }\n",
       "</style>\n",
       "<table border=\"1\" class=\"dataframe\">\n",
       "  <thead>\n",
       "    <tr style=\"text-align: right;\">\n",
       "      <th></th>\n",
       "      <th>Place</th>\n",
       "      <th>Time</th>\n",
       "      <th>Name</th>\n",
       "      <th>HomeTown</th>\n",
       "      <th>Age</th>\n",
       "      <th>Sex</th>\n",
       "      <th>Race/Place</th>\n",
       "      <th>Time/Place</th>\n",
       "      <th>Place_Adj</th>\n",
       "      <th>Bib</th>\n",
       "    </tr>\n",
       "  </thead>\n",
       "  <tbody>\n",
       "    <tr>\n",
       "      <th>0</th>\n",
       "      <td>1</td>\n",
       "      <td>45:14</td>\n",
       "      <td>Russ Kiernan</td>\n",
       "      <td>Mill Valley CA</td>\n",
       "      <td>64</td>\n",
       "      <td>M</td>\n",
       "      <td>Invitational/1</td>\n",
       "      <td>1:00:14/37</td>\n",
       "      <td>H/1</td>\n",
       "      <td>15</td>\n",
       "    </tr>\n",
       "    <tr>\n",
       "      <th>1</th>\n",
       "      <td>2</td>\n",
       "      <td>47:53</td>\n",
       "      <td>Shirley Matson</td>\n",
       "      <td>Larkspur CA</td>\n",
       "      <td>61</td>\n",
       "      <td>F</td>\n",
       "      <td>Invitational/2</td>\n",
       "      <td>1:07:53/202</td>\n",
       "      <td>C/1</td>\n",
       "      <td>20</td>\n",
       "    </tr>\n",
       "    <tr>\n",
       "      <th>2</th>\n",
       "      <td>3</td>\n",
       "      <td>49:11</td>\n",
       "      <td>Roy Rivers</td>\n",
       "      <td>Mill Valley CA</td>\n",
       "      <td>45</td>\n",
       "      <td>M</td>\n",
       "      <td>Invitational/3</td>\n",
       "      <td>53:11/4</td>\n",
       "      <td>W/1</td>\n",
       "      <td>4</td>\n",
       "    </tr>\n",
       "    <tr>\n",
       "      <th>3</th>\n",
       "      <td>4</td>\n",
       "      <td>49:16</td>\n",
       "      <td>Christopher Phipps</td>\n",
       "      <td>San Francisco CA</td>\n",
       "      <td>32</td>\n",
       "      <td>M</td>\n",
       "      <td>Invitational/4</td>\n",
       "      <td>50:16/1</td>\n",
       "      <td>Z/1</td>\n",
       "      <td>1</td>\n",
       "    </tr>\n",
       "    <tr>\n",
       "      <th>4</th>\n",
       "      <td>5</td>\n",
       "      <td>49:19</td>\n",
       "      <td>Diana Fitzpatrick</td>\n",
       "      <td>Larkspur CA</td>\n",
       "      <td>44</td>\n",
       "      <td>F</td>\n",
       "      <td>Invitational/5</td>\n",
       "      <td>1:00:19/38</td>\n",
       "      <td>M/1</td>\n",
       "      <td>11</td>\n",
       "    </tr>\n",
       "  </tbody>\n",
       "</table>\n",
       "</div>"
      ],
      "text/plain": [
       "   Place   Time                Name          HomeTown Age Sex      Race/Place  \\\n",
       "0      1  45:14        Russ Kiernan    Mill Valley CA  64   M  Invitational/1   \n",
       "1      2  47:53      Shirley Matson       Larkspur CA  61   F  Invitational/2   \n",
       "2      3  49:11          Roy Rivers    Mill Valley CA  45   M  Invitational/3   \n",
       "3      4  49:16  Christopher Phipps  San Francisco CA  32   M  Invitational/4   \n",
       "4      5  49:19   Diana Fitzpatrick       Larkspur CA  44   F  Invitational/5   \n",
       "\n",
       "    Time/Place Place_Adj Bib  \n",
       "0   1:00:14/37       H/1  15  \n",
       "1  1:07:53/202       C/1  20  \n",
       "2      53:11/4       W/1   4  \n",
       "3      50:16/1       Z/1   1  \n",
       "4   1:00:19/38       M/1  11  "
      ]
     },
     "execution_count": 16,
     "metadata": {},
     "output_type": "execute_result"
    }
   ],
   "source": [
    "df2002 = pd.read_csv('/Users/paul/Desktop/Dipsea/RAW/2000-2016/results_2002.csv')\n",
    "df2002.head()\n",
    "df2002.drop(columns=['HomeTown', 'Place_Adj', 'Race/Place','Bib'], inplace=True)\n",
    "df2002['actual_time'] = df2002['Time/Place'].str.extract(r'(^\\d+:\\d{2}:\\d{2})')\n",
    "\n",
    "df2002.drop(columns=['Time/Place'], inplace=True)\n",
    "df2002.columns=['place_overall', 'time', 'name', 'age', 'sex', 'actual_time']\n",
    "df2002.to_csv('/Users/paul/Desktop/Dipsea/PROCESSED/2000-2016/processed_results_2002.csv', index=False)\n"
   ]
  },
  {
   "cell_type": "code",
   "execution_count": null,
   "metadata": {},
   "outputs": [],
   "source": [
    "import pandas as pd\n",
    "\n",
    "files = ['results_2003.csv', 'results_2004.csv', 'results_2005.csv']\n",
    "\n",
    "for file in files:\n",
    "    df = pd.read_csv(f'/Users/paul/Desktop/Dipsea/RAW/2000-2016/{file}')\n",
    "    \n",
    "    df.drop(columns=['HomeTown', 'Place_Adj', 'Race/Place','Bib'], inplace=True)\n",
    "    \n",
    "    df['actual_time'] = df['Time/Place'].str.extract(r'(^\\d+:\\d{2}:\\d{2})')\n",
    "    \n",
    "    df.drop(columns=['Time/Place'], inplace=True)\n",
    "    \n",
    "    df.columns = ['place_overall', 'time', 'name', 'age', 'sex', 'actual_time']\n",
    "    \n",
    "    output_filename = f'/Users/paul/Desktop/Dipsea/PROCESSED/2000-2016/processed_{file}'\n",
    "    df.to_csv(output_filename, index=False)\n"
   ]
  }
 ],
 "metadata": {
  "kernelspec": {
   "display_name": "base",
   "language": "python",
   "name": "python3"
  },
  "language_info": {
   "codemirror_mode": {
    "name": "ipython",
    "version": 3
   },
   "file_extension": ".py",
   "mimetype": "text/x-python",
   "name": "python",
   "nbconvert_exporter": "python",
   "pygments_lexer": "ipython3",
   "version": "3.12.7"
  }
 },
 "nbformat": 4,
 "nbformat_minor": 2
}
